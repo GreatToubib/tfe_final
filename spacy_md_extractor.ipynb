{
 "cells": [
  {
   "cell_type": "code",
   "execution_count": 29,
   "id": "99f76f57",
   "metadata": {},
   "outputs": [],
   "source": [
    "wdir=\"AM_videogames/\"\n",
    "\n",
    "import pandas as pd\n",
    "import numpy as np\n",
    "import time\n",
    "import spacy\n",
    "import pickle\n",
    "# sp_md_vector = spacy.load('en_core_web_md',disable=['tagger', 'parser', 'ner', 'attribute_ruler', 'lemmatizer'])\n",
    "sp_md = spacy.load('en_core_web_md')"
   ]
  },
  {
   "cell_type": "code",
   "execution_count": 2,
   "id": "1d7980c6",
   "metadata": {},
   "outputs": [
    {
     "name": "stdout",
     "output_type": "stream",
     "text": [
      "nvcc: NVIDIA (R) Cuda compiler driver\n",
      "Copyright (c) 2005-2021 NVIDIA Corporation\n",
      "Built on Sun_Mar_21_19:24:09_Pacific_Daylight_Time_2021\n",
      "Cuda compilation tools, release 11.3, V11.3.58\n",
      "Build cuda_11.3.r11.3/compiler.29745058_0\n"
     ]
    }
   ],
   "source": [
    "!nvcc --version"
   ]
  },
  {
   "cell_type": "code",
   "execution_count": 3,
   "id": "eeefa0d4",
   "metadata": {},
   "outputs": [
    {
     "name": "stdout",
     "output_type": "stream",
     "text": [
      "\u001b[1m\n",
      "============================== Info about spaCy ==============================\u001b[0m\n",
      "\n",
      "spaCy version    3.0.6                         \n",
      "Location         C:\\Users\\basil\\miniconda3\\envs\\basic\\lib\\site-packages\\spacy\n",
      "Platform         Windows-10-10.0.19041-SP0     \n",
      "Python version   3.9.4                         \n",
      "Pipelines        en_core_web_md (3.0.0), en_core_web_trf (3.0.0)\n",
      "\n"
     ]
    }
   ],
   "source": [
    "!python -m spacy info"
   ]
  },
  {
   "cell_type": "code",
   "execution_count": 30,
   "metadata": {},
   "outputs": [],
   "source": [
    "wdir=\"AM_videogames/\"\n",
    "chosen_game=\"diablo III\""
   ]
  },
  {
   "cell_type": "code",
   "execution_count": 34,
   "id": "c1866337",
   "metadata": {},
   "outputs": [
    {
     "name": "stdout",
     "output_type": "stream",
     "text": [
      "4864\n",
      "100 % processed woaw \n",
      "4864\n",
      "4864\n",
      "34.4 s ± 0 ns per loop (mean ± std. dev. of 1 run, 1 loop each)\n"
     ]
    }
   ],
   "source": [
    "%%timeit -n 1 -r 1 # number of loop\n",
    "# 35 sec versus 15 seconds when only extracting vectors. vla quoi. \n",
    "\n",
    "\n",
    "basic_df = pd.read_pickle(wdir+\"2_df.pkl\") # 2 is sentence split, with stopwords \n",
    "basic_df=basic_df.loc[basic_df[\"game_title\"]==chosen_game]\n",
    "basic_df=basic_df.reset_index(drop=True)\n",
    "# basic_df.head()\n",
    "\n",
    "\n",
    "df_len=len(basic_df.index)\n",
    "print(df_len)\n",
    "percent=int(df_len/100)\n",
    "doc_list=[]\n",
    "for index, row in basic_df.iterrows():\n",
    "    \n",
    "    if (index%percent)==1:\n",
    "        print(int(index/df_len*100) , \" % processed\", end=\"\\r\", flush=True)\n",
    "\n",
    "    doc = sp_md(row[\"sentence\"])\n",
    "    doc_list.append(doc)\n",
    "print(\"100 % processed woaw \") \n",
    "print(len(doc_list)) \n",
    "\n",
    "''' Serialization '''\n",
    "# Serialize vocab (actually the whole NLP ojbect)\n",
    "pickle.dump(doc_list, open(wdir+chosen_game+\"_SP.pickle\", \"wb\"))\n",
    "\n",
    "''' Deserialization '''\n",
    "loaded_doc_list = pickle.load(open(wdir+chosen_game+\"_SP.pickle\", \"rb\"))\n",
    "print(len(loaded_doc_list))"
   ]
  },
  {
   "cell_type": "code",
   "execution_count": 35,
   "metadata": {},
   "outputs": [
    {
     "name": "stdout",
     "output_type": "stream",
     "text": [
      "4864\n"
     ]
    }
   ],
   "source": [
    "''' Deserialization '''\n",
    "loaded_doc_list = pickle.load(open(wdir+chosen_game+\"_SP.pickle\", \"rb\"))\n",
    "print(len(loaded_doc_list))"
   ]
  },
  {
   "cell_type": "code",
   "execution_count": 36,
   "metadata": {},
   "outputs": [
    {
     "data": {
      "text/plain": [
       "'PRON'"
      ]
     },
     "execution_count": 36,
     "metadata": {},
     "output_type": "execute_result"
    }
   ],
   "source": [
    "loaded_doc_list[0][0].text # token level ( before, its text level)\n",
    "loaded_doc_list[0][0].pos_"
   ]
  }
 ],
 "metadata": {
  "kernelspec": {
   "display_name": "Python 3",
   "language": "python",
   "name": "python3"
  },
  "language_info": {
   "codemirror_mode": {
    "name": "ipython",
    "version": 3
   },
   "file_extension": ".py",
   "mimetype": "text/x-python",
   "name": "python",
   "nbconvert_exporter": "python",
   "pygments_lexer": "ipython3",
   "version": "3.9.4"
  }
 },
 "nbformat": 4,
 "nbformat_minor": 5
}
