{
 "cells": [
  {
   "cell_type": "markdown",
   "metadata": {
    "id": "IylWiPWFOt95"
   },
   "source": [
    "# SETUP"
   ]
  },
  {
   "cell_type": "code",
   "execution_count": 1,
   "metadata": {
    "colab": {
     "base_uri": "https://localhost:8080/"
    },
    "executionInfo": {
     "elapsed": 124137,
     "status": "ok",
     "timestamp": 1619688239576,
     "user": {
      "displayName": "Burléon Basil",
      "photoUrl": "",
      "userId": "15438663208525718664"
     },
     "user_tz": -120
    },
    "id": "4VcyfILlHOXR",
    "outputId": "dd33191b-ee9a-4848-ddbe-4bef38898991"
   },
   "outputs": [],
   "source": [
    "import pandas as pd\n"
   ]
  },
  {
   "cell_type": "markdown",
   "metadata": {
    "id": "P832aYBrHoU7"
   },
   "source": [
    "# Load data\n"
   ]
  },
  {
   "cell_type": "markdown",
   "metadata": {
    "id": "pc0epdEIL-5t"
   },
   "source": [
    "## Steam"
   ]
  },
  {
   "cell_type": "code",
   "execution_count": 11,
   "metadata": {
    "id": "ki7tVIB3HSak",
    "scrolled": true
   },
   "outputs": [],
   "source": [
    "# wdir=\"steam/\"\n",
    "# data_folder=\"raw_datasets/automatic_labels/\"+wdir\n",
    "# full_df = pd.read_csv(data_folder+\"train.csv\") \n",
    "# # Preview the first 5 lines of the loaded data \n",
    "# full_df.head()\n",
    "# full_df['game_title']=full_df['title']\n",
    "# full_df['review_id']=full_df['review_id']\n",
    "# full_df['review_text']=full_df['user_review']\n",
    "# full_df['score']=full_df['user_suggestion']\n",
    "# full_df=full_df[[\"review_id\", \"game_title\", \"review_text\",\"score\"]]\n",
    "# full_df.groupby('game_title').review_id.nunique()\n",
    "# used_games=[\"Eternal Card Game\",\n",
    "# \"Fractured Spacy\",\n",
    "# \"Heroes & Generals\",\n",
    "# \"Robocraft\",\n",
    "# \"Bless Online\",\n",
    "# \"SMITE®\"]\n",
    "# used_games_dict = {i: used_games[i] for i in range(0, len(used_games))}  \n",
    "# print(used_games_dict)   \n",
    "# df=full_df\n",
    "# df=full_df.loc[df['game_title'].isin(used_games)]\n",
    "# print(\"df shape: \", df.shape)\n",
    "# df.to_pickle(wdir+\"1_basic_df.pkl\")\n",
    "# df.head()"
   ]
  },
  {
   "cell_type": "markdown",
   "metadata": {
    "id": "c5vfZR0zMBbm"
   },
   "source": [
    "## metacritic"
   ]
  },
  {
   "cell_type": "code",
   "execution_count": 9,
   "metadata": {
    "id": "9qQTgqOsMGdp"
   },
   "outputs": [],
   "source": [
    "# wdir=\"metacritic/\"\n",
    "# data_folder=\"raw_datasets/automatic_labels/\"+wdir\n",
    "# full_df = pd.read_csv(data_folder+\"metacritic_critic_reviews.csv\") \n",
    "# # Preview the first 5 lines of the loaded data \n",
    "# full_df.head()\n",
    "# full_df=full_df.drop(['name', 'date'], axis=1)\n",
    "# full_df = full_df[full_df.platform == \"PC\"]\n",
    "# full_df=full_df.drop(['platform'], axis=1)\n",
    "# full_df = full_df.sample(frac=1).reset_index(drop=False) # random sampling and resetting index\n",
    "# full_df['game_title']=full_df['game']\n",
    "# full_df['review_id']=full_df['index']\n",
    "# full_df['review_text']=full_df['review']\n",
    "# used_games=[\"Company of Heroes 2\",      ## games with most reviews ( around 100 each ) in the dataset     \n",
    "# \"Diablo III\",                     \n",
    "# \"Sid Meier's Civilization VI\",   \n",
    "# \"SUPERHOT\",                       \n",
    "# \"XCOM 2\"]       \n",
    "# used_games_dict = {i: used_games[i] for i in range(0, len(used_games))}  \n",
    "# print(used_games_dict)            \n",
    "# df=full_df\n",
    "# df=df.loc[df['game_title'].isin(used_games)].reset_index(drop=True)\n",
    "# print(\"df shape: \", df.shape)\n",
    "# df.to_pickle(wdir+\"1_basic_df.pkl\")\n",
    "\n",
    "# df.head()"
   ]
  },
  {
   "cell_type": "markdown",
   "metadata": {
    "id": "Vx_mDHNIisK4"
   },
   "source": [
    "## AM Videogames\n"
   ]
  },
  {
   "cell_type": "code",
   "execution_count": 2,
   "metadata": {
    "colab": {
     "base_uri": "https://localhost:8080/",
     "height": 313
    },
    "executionInfo": {
     "elapsed": 3907,
     "status": "ok",
     "timestamp": 1619688243496,
     "user": {
      "displayName": "Burléon Basil",
      "photoUrl": "",
      "userId": "15438663208525718664"
     },
     "user_tz": -120
    },
    "id": "hBUYEncZsf64",
    "outputId": "8d1eac9c-c1a7-495e-f89b-dfa874c6893d"
   },
   "outputs": [
    {
     "data": {
      "text/html": [
       "<div>\n",
       "<style scoped>\n",
       "    .dataframe tbody tr th:only-of-type {\n",
       "        vertical-align: middle;\n",
       "    }\n",
       "\n",
       "    .dataframe tbody tr th {\n",
       "        vertical-align: top;\n",
       "    }\n",
       "\n",
       "    .dataframe thead th {\n",
       "        text-align: right;\n",
       "    }\n",
       "</style>\n",
       "<table border=\"1\" class=\"dataframe\">\n",
       "  <thead>\n",
       "    <tr style=\"text-align: right;\">\n",
       "      <th></th>\n",
       "      <th>review_id</th>\n",
       "      <th>game_title</th>\n",
       "      <th>review_text</th>\n",
       "      <th>score</th>\n",
       "    </tr>\n",
       "  </thead>\n",
       "  <tbody>\n",
       "    <tr>\n",
       "      <th>0</th>\n",
       "      <td>65066</td>\n",
       "      <td>God of War III</td>\n",
       "      <td>This game is probably one of the most brutal, ...</td>\n",
       "      <td>5.0</td>\n",
       "    </tr>\n",
       "    <tr>\n",
       "      <th>1</th>\n",
       "      <td>51958</td>\n",
       "      <td>God of War III</td>\n",
       "      <td>This is one of my favorite ps3 titles. Mgs4, k...</td>\n",
       "      <td>5.0</td>\n",
       "    </tr>\n",
       "    <tr>\n",
       "      <th>2</th>\n",
       "      <td>63560</td>\n",
       "      <td>Mario Kart</td>\n",
       "      <td>Nice accessory to have.</td>\n",
       "      <td>5.0</td>\n",
       "    </tr>\n",
       "    <tr>\n",
       "      <th>3</th>\n",
       "      <td>63566</td>\n",
       "      <td>Mario Kart</td>\n",
       "      <td>my son loved it</td>\n",
       "      <td>5.0</td>\n",
       "    </tr>\n",
       "    <tr>\n",
       "      <th>4</th>\n",
       "      <td>64895</td>\n",
       "      <td>StarCraft II: Wings of Liberty</td>\n",
       "      <td>Great game but too short.  Great deal for fift...</td>\n",
       "      <td>5.0</td>\n",
       "    </tr>\n",
       "    <tr>\n",
       "      <th>5</th>\n",
       "      <td>51496</td>\n",
       "      <td>StarCraft II: Wings of Liberty</td>\n",
       "      <td>Quality product, very fast shipping as well.</td>\n",
       "      <td>5.0</td>\n",
       "    </tr>\n",
       "    <tr>\n",
       "      <th>6</th>\n",
       "      <td>215737</td>\n",
       "      <td>The Last of Us</td>\n",
       "      <td>This is without a shadow of a doubt the most t...</td>\n",
       "      <td>5.0</td>\n",
       "    </tr>\n",
       "    <tr>\n",
       "      <th>7</th>\n",
       "      <td>215252</td>\n",
       "      <td>The Last of Us</td>\n",
       "      <td>One of my favorite games of all time. Right th...</td>\n",
       "      <td>5.0</td>\n",
       "    </tr>\n",
       "    <tr>\n",
       "      <th>8</th>\n",
       "      <td>59267</td>\n",
       "      <td>diablo III</td>\n",
       "      <td>Amazing game, It will eat your free time and p...</td>\n",
       "      <td>5.0</td>\n",
       "    </tr>\n",
       "    <tr>\n",
       "      <th>9</th>\n",
       "      <td>72682</td>\n",
       "      <td>diablo III</td>\n",
       "      <td>Came in timely manner, and works like a charm!...</td>\n",
       "      <td>5.0</td>\n",
       "    </tr>\n",
       "  </tbody>\n",
       "</table>\n",
       "</div>"
      ],
      "text/plain": [
       "   review_id                      game_title  \\\n",
       "0      65066                  God of War III   \n",
       "1      51958                  God of War III   \n",
       "2      63560                      Mario Kart   \n",
       "3      63566                      Mario Kart   \n",
       "4      64895  StarCraft II: Wings of Liberty   \n",
       "5      51496  StarCraft II: Wings of Liberty   \n",
       "6     215737                  The Last of Us   \n",
       "7     215252                  The Last of Us   \n",
       "8      59267                      diablo III   \n",
       "9      72682                      diablo III   \n",
       "\n",
       "                                         review_text  score  \n",
       "0  This game is probably one of the most brutal, ...    5.0  \n",
       "1  This is one of my favorite ps3 titles. Mgs4, k...    5.0  \n",
       "2                            Nice accessory to have.    5.0  \n",
       "3                                    my son loved it    5.0  \n",
       "4  Great game but too short.  Great deal for fift...    5.0  \n",
       "5       Quality product, very fast shipping as well.    5.0  \n",
       "6  This is without a shadow of a doubt the most t...    5.0  \n",
       "7  One of my favorite games of all time. Right th...    5.0  \n",
       "8  Amazing game, It will eat your free time and p...    5.0  \n",
       "9  Came in timely manner, and works like a charm!...    5.0  "
      ]
     },
     "execution_count": 2,
     "metadata": {},
     "output_type": "execute_result"
    }
   ],
   "source": [
    "# !pip3 install pickle5\n",
    "import pickle as pickle\n",
    "wdir=\"AM_videogames/\"\n",
    "data_folder=\"raw_datasets/automatic_labels/\"+wdir\n",
    "# with open(wdir+\"1_basic_df.pkl\", \"rb\") as fh:\n",
    "#     df = pickle.load(fh)\n",
    "\n",
    "df = pd.read_pickle(data_folder+\"1_basic_df.pkl\")\n",
    "# df=df.drop([\"summary\"], axis=1)\n",
    "used_games={\"B00178630A\" :\"diablo III\",  ## games with most reviews ( around 100 each ) in the dataset     \n",
    "\"B000ZK9QCS\" :\"God of War III\",     \n",
    "\"B000XJNTNS\" :\"Mario Kart\",                     \n",
    "\"B00JK00S0S\" :\"The Last of Us\",   \n",
    "\"B000ZKA0J6\" : \"StarCraft II: Wings of Liberty\"}\n",
    "df['game_title'] = df['game_title'].replace([\"B00178630A\",\"B000ZK9QCS\",\"B000XJNTNS\",\"B00JK00S0S\",\"B000ZKA0J6\"],\n",
    "                                            [\"diablo III\", \"God of War III\",\"Mario Kart\",\"The Last of Us\", \"StarCraft II: Wings of Liberty\"])\n",
    "# used_games_dict = {i: used_games[i] for i in range(0, len(used_games))}  \n",
    "# print(used_games_dict)            \n",
    "full_df=df[[\"review_id\", \"game_title\", \"review_text\",\"score\"]]\n",
    "full_df\n",
    "df=full_df.groupby('game_title', group_keys=False).apply(lambda df: df.sample(2)).reset_index(drop=True)\n",
    "df\n",
    "\n",
    "# for index,row in df.iterrows():\n",
    "#     f = open(\"AM_2_per_game/\"+str(index)+\".txt\", \"a\")\n",
    "#     f.write(row[\"review_text\"])\n",
    "#     f.close()\n",
    "\n",
    "# df=df.loc[df['game_title'].isin(used_games)].reset_index(drop=True)\n",
    "# print(\"df shape: \", df.shape)\n",
    "# df.to_pickle(wdir+\"1_basic_df.pkl\")\n",
    "# df.head(50)"
   ]
  },
  {
   "cell_type": "code",
   "execution_count": 5,
   "metadata": {},
   "outputs": [],
   "source": [
    "wdir=\"AM_videogames/\"\n",
    "data_folder=\"raw_datasets/automatic_labels/\"+wdir\n",
    "# with open(wdir+\"1_basic_df.pkl\", \"rb\") as fh:\n",
    "#     df = pickle.load(fh)\n",
    "\n",
    "import json\n",
    "import pandas as pd\n",
    "import gzip\n",
    "\n",
    "def parse(path):\n",
    "  g = gzip.open(path, 'rb')\n",
    "  for l in g:\n",
    "    yield json.loads(l)\n",
    "\n",
    "def getDF(path):\n",
    "  i = 0\n",
    "  df = {}\n",
    "  for d in parse(path):\n",
    "    df[i] = d\n",
    "    i += 1\n",
    "  return pd.DataFrame.from_dict(df, orient='index')\n",
    "\n",
    "df = getDF(\"raw_datasets/automatic_labels/\"+wdir+'Video_Games_5.json.gz')\n"
   ]
  },
  {
   "cell_type": "code",
   "execution_count": 6,
   "metadata": {},
   "outputs": [
    {
     "data": {
      "text/html": [
       "<div>\n",
       "<style scoped>\n",
       "    .dataframe tbody tr th:only-of-type {\n",
       "        vertical-align: middle;\n",
       "    }\n",
       "\n",
       "    .dataframe tbody tr th {\n",
       "        vertical-align: top;\n",
       "    }\n",
       "\n",
       "    .dataframe thead th {\n",
       "        text-align: right;\n",
       "    }\n",
       "</style>\n",
       "<table border=\"1\" class=\"dataframe\">\n",
       "  <thead>\n",
       "    <tr style=\"text-align: right;\">\n",
       "      <th></th>\n",
       "      <th>reviewText</th>\n",
       "      <th>asin</th>\n",
       "    </tr>\n",
       "  </thead>\n",
       "  <tbody>\n",
       "    <tr>\n",
       "      <th>0</th>\n",
       "      <td>This game is a bit hard to get the hang of, bu...</td>\n",
       "      <td>0700026657</td>\n",
       "    </tr>\n",
       "    <tr>\n",
       "      <th>1</th>\n",
       "      <td>I played it a while but it was alright. The st...</td>\n",
       "      <td>0700026657</td>\n",
       "    </tr>\n",
       "    <tr>\n",
       "      <th>2</th>\n",
       "      <td>ok game.</td>\n",
       "      <td>0700026657</td>\n",
       "    </tr>\n",
       "    <tr>\n",
       "      <th>3</th>\n",
       "      <td>found the game a bit too complicated, not what...</td>\n",
       "      <td>0700026657</td>\n",
       "    </tr>\n",
       "    <tr>\n",
       "      <th>4</th>\n",
       "      <td>great game, I love it and have played it since...</td>\n",
       "      <td>0700026657</td>\n",
       "    </tr>\n",
       "    <tr>\n",
       "      <th>...</th>\n",
       "      <td>...</td>\n",
       "      <td>...</td>\n",
       "    </tr>\n",
       "    <tr>\n",
       "      <th>497572</th>\n",
       "      <td>not OEM but good replacement parts</td>\n",
       "      <td>B01HGPUTCA</td>\n",
       "    </tr>\n",
       "    <tr>\n",
       "      <th>497573</th>\n",
       "      <td>Okay stuff.</td>\n",
       "      <td>B01HH6JEOC</td>\n",
       "    </tr>\n",
       "    <tr>\n",
       "      <th>497574</th>\n",
       "      <td>This does add some kids room things that are v...</td>\n",
       "      <td>B01HH6JEOC</td>\n",
       "    </tr>\n",
       "    <tr>\n",
       "      <th>497575</th>\n",
       "      <td>I think I originally began playing Bioshock se...</td>\n",
       "      <td>B01HIZF7XE</td>\n",
       "    </tr>\n",
       "    <tr>\n",
       "      <th>497576</th>\n",
       "      <td>The graphics are terrible, it looks like ps2 g...</td>\n",
       "      <td>B01HIZGKOE</td>\n",
       "    </tr>\n",
       "  </tbody>\n",
       "</table>\n",
       "<p>497577 rows × 2 columns</p>\n",
       "</div>"
      ],
      "text/plain": [
       "                                               reviewText        asin\n",
       "0       This game is a bit hard to get the hang of, bu...  0700026657\n",
       "1       I played it a while but it was alright. The st...  0700026657\n",
       "2                                                ok game.  0700026657\n",
       "3       found the game a bit too complicated, not what...  0700026657\n",
       "4       great game, I love it and have played it since...  0700026657\n",
       "...                                                   ...         ...\n",
       "497572                 not OEM but good replacement parts  B01HGPUTCA\n",
       "497573                                        Okay stuff.  B01HH6JEOC\n",
       "497574  This does add some kids room things that are v...  B01HH6JEOC\n",
       "497575  I think I originally began playing Bioshock se...  B01HIZF7XE\n",
       "497576  The graphics are terrible, it looks like ps2 g...  B01HIZGKOE\n",
       "\n",
       "[497577 rows x 2 columns]"
      ]
     },
     "execution_count": 6,
     "metadata": {},
     "output_type": "execute_result"
    }
   ],
   "source": [
    "df=df[[ \"reviewText\",\"asin\"]]\n",
    "df"
   ]
  },
  {
   "cell_type": "code",
   "execution_count": 83,
   "metadata": {},
   "outputs": [],
   "source": [
    "df=df.groupby('asin', group_keys=False).apply(lambda df: df.sample(1)).reset_index(drop=True)\n",
    "df\n",
    "i=0\n",
    "textList=[]\n",
    "for index,row in df.iterrows():\n",
    "    if len(str(row[\"reviewText\"]))>600 and len(str(row[\"reviewText\"]))< 800:\n",
    "        i+=1\n",
    "        if i<10000:\n",
    "            f = open(\"AM_2_per_game/\"+str(i)+\".txt\", \"a\")\n",
    "            tmp=str(row[\"reviewText\"]).rstrip().replace(\"\\r\",\" \").splitlines()\n",
    "            ntmp=[]\n",
    "            for t in tmp:\n",
    "                ntmp.append(t.rstrip().strip())\n",
    "\n",
    "            f.write(\" \".join(ntmp))\n",
    "            f.close()\n",
    "    "
   ]
  },
  {
   "cell_type": "code",
   "execution_count": 55,
   "metadata": {},
   "outputs": [
    {
     "data": {
      "text/plain": [
       "'This installment introduces some unusual elements to the series -- mainly the \"instinct\" gauge, which lets you look through walls and avoid raising suspicions, but I sort of miss the older approach where keeping your distance and hiding your face did the trick. (Plus you have to refill said gauge by disabling or killing enemies to be able to use it once it runs out). The visuals are vastly improved from Blood Money of course, and I appreciate their allowing me to play with my gamepad.  Some have criticized the fact that this game has \"too much story\" in it. I may be biased (even if I play an anti-hero, I like him having some motivation to pursue a course of action), but I didn\\'t feel that the story took anything away from the gameplay.'"
      ]
     },
     "execution_count": 55,
     "metadata": {},
     "output_type": "execute_result"
    }
   ],
   "source": [
    "\" \".join(df.iloc[0][\"reviewText\"].splitlines())"
   ]
  },
  {
   "cell_type": "code",
   "execution_count": 82,
   "metadata": {},
   "outputs": [],
   "source": [
    "import os, shutil\n",
    "folder = 'AM_2_per_game'\n",
    "for filename in os.listdir(folder):\n",
    "    file_path = os.path.join(folder, filename)\n",
    "    try:\n",
    "        if os.path.isfile(file_path) or os.path.islink(file_path):\n",
    "            os.unlink(file_path)\n",
    "        elif os.path.isdir(file_path):\n",
    "            shutil.rmtree(file_path)\n",
    "    except Exception as e:\n",
    "        print('Failed to delete %s. Reason: %s' % (file_path, e))"
   ]
  },
  {
   "cell_type": "code",
   "execution_count": 37,
   "metadata": {},
   "outputs": [
    {
     "name": "stdout",
     "output_type": "stream",
     "text": [
      "19\n"
     ]
    }
   ],
   "source": [
    "import os\n",
    "\n",
    "img_folder_path = 'AM_2_per_game'\n",
    "dirListing = os.listdir(img_folder_path)\n",
    "\n",
    "print(len(dirListing))"
   ]
  },
  {
   "cell_type": "code",
   "execution_count": 35,
   "metadata": {},
   "outputs": [],
   "source": [
    "import os, shutil\n",
    "folder = 'AM_2_per_game'\n",
    "for filename in os.listdir(folder):\n",
    "    file_path = os.path.join(folder, filename)\n",
    "    try:\n",
    "        if os.path.isfile(file_path) or os.path.islink(file_path):\n",
    "            os.unlink(file_path)\n",
    "        elif os.path.isdir(file_path):\n",
    "            shutil.rmtree(file_path)\n",
    "    except Exception as e:\n",
    "        print('Failed to delete %s. Reason: %s' % (file_path, e))"
   ]
  },
  {
   "cell_type": "code",
   "execution_count": 15,
   "metadata": {},
   "outputs": [],
   "source": [
    "# POSLemmaChoice=\"SP\" # WN TB SP\n",
    "wdir=\"AM_videogames/\"\n",
    "chosen_game=\"diablo III\"\n",
    "chosen_game_list=[]\n",
    "basic_df = pd.read_pickle(wdir+\"1_df.pkl\") # 2 is sentence split, with stopwords \n",
    "basic_df=basic_df.loc[basic_df[\"game_title\"]==chosen_game]\n",
    "basic_df=basic_df.reset_index(drop=True)\n",
    "basic_df.head(10)\n",
    "texts=[]\n",
    "\n",
    "    \n",
    "f = open(\"diabloIII.txt\", \"a\")\n",
    "for index,row in basic_df.iterrows():\n",
    "    texts.append(row[\"review_text\"])\n",
    "    if index<50:\n",
    "        f.write(row[\"review_text\"])\n",
    "f.close()\n",
    "\n"
   ]
  }
 ],
 "metadata": {
  "colab": {
   "authorship_tag": "ABX9TyMz7iQVIlD42CE+bI+4uAbf",
   "collapsed_sections": [
    "8tN0QeJkMrVr",
    "UNRsHcdJiF3N",
    "Lcg32DJYiIU3"
   ],
   "name": "Basic.ipynb",
   "provenance": [],
   "toc_visible": true
  },
  "kernelspec": {
   "display_name": "Python 3",
   "language": "python",
   "name": "python3"
  },
  "language_info": {
   "codemirror_mode": {
    "name": "ipython",
    "version": 3
   },
   "file_extension": ".py",
   "mimetype": "text/x-python",
   "name": "python",
   "nbconvert_exporter": "python",
   "pygments_lexer": "ipython3",
   "version": "3.9.4"
  }
 },
 "nbformat": 4,
 "nbformat_minor": 1
}
